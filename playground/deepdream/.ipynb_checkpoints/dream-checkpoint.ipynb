{
 "cells": [
  {
   "cell_type": "markdown",
   "metadata": {
    "colab_type": "text",
    "id": "RMhGdYHuOZM8"
   },
   "source": [
    "# Deep Dreams (with Caffe)\n",
    "\n",
    "This notebook demonstrates how to use [Caffe](http://caffe.berkeleyvision.org/) neural network framework to produce \"dream\" visuals shown in the [Google Research blog post](http://googleresearch.blogspot.ch/2015/06/inceptionism-going-deeper-into-neural.html).\n",
    "\n",
    "It'll be interesting to see what imagery people are able to generate using the described technique. If you post images to Google+, Facebook, or Twitter, be sure to tag them with **#deepdream** so other researchers can check them out too.\n",
    "\n",
    "##Dependencies\n",
    "This notebook is designed to have as few dependencies as possible:\n",
    "* Standard Python scientific stack: [NumPy](http://www.numpy.org/), [SciPy](http://www.scipy.org/), [PIL](http://www.pythonware.com/products/pil/), [IPython](http://ipython.org/). Those libraries can also be installed as a part of one of scientific packages for Python, such as [Anaconda](http://continuum.io/downloads) or [Canopy](https://store.enthought.com/).\n",
    "* [Caffe](http://caffe.berkeleyvision.org/) deep learning framework ([installation instructions](http://caffe.berkeleyvision.org/installation.html)).\n",
    "* Google [protobuf](https://developers.google.com/protocol-buffers/) library that is used for Caffe model manipulation."
   ]
  },
  {
   "cell_type": "code",
   "execution_count": 1,
   "metadata": {
    "cellView": "both",
    "colab_type": "code",
    "collapsed": false,
    "id": "Pqz5k4syOZNA"
   },
   "outputs": [],
   "source": [
    "# imports and basic notebook setup\n",
    "from cStringIO import StringIO\n",
    "import numpy as np\n",
    "import scipy.ndimage as nd\n",
    "import PIL.Image\n",
    "from IPython.display import clear_output, Image, display\n",
    "from google.protobuf import text_format\n",
    "\n",
    "import matplotlib\n",
    "matplotlib.use('Agg')\n",
    "\n",
    "import caffe\n",
    "caffe.set_mode_gpu()\n",
    "caffe.set_device(0)\n",
    "\n",
    "def showarray(a, fmt='jpeg'):\n",
    "    pass"
   ]
  },
  {
   "cell_type": "markdown",
   "metadata": {
    "colab_type": "text",
    "id": "AeF9mG-COZNE"
   },
   "source": [
    "## Loading DNN model\n",
    "In this notebook we are going to use a [GoogLeNet](https://github.com/BVLC/caffe/tree/master/models/bvlc_googlenet) model trained on [ImageNet](http://www.image-net.org/) dataset.\n",
    "Feel free to experiment with other models from Caffe [Model Zoo](https://github.com/BVLC/caffe/wiki/Model-Zoo). One particularly interesting [model](http://places.csail.mit.edu/downloadCNN.html) was trained in [MIT Places](http://places.csail.mit.edu/) dataset. It produced many visuals from the [original blog post](http://googleresearch.blogspot.ch/2015/06/inceptionism-going-deeper-into-neural.html)."
   ]
  },
  {
   "cell_type": "code",
   "execution_count": 2,
   "metadata": {
    "cellView": "both",
    "colab_type": "code",
    "collapsed": false,
    "id": "i9hkSm1IOZNR"
   },
   "outputs": [],
   "source": [
    "model_path = '/home/mpss2015m_1/caffe-tmbo/models/bvlc_googlenet/' # substitute your path here\n",
    "net_fn   = model_path + 'deploy.prototxt'\n",
    "param_fn = model_path + 'bvlc_googlenet.caffemodel'\n",
    "\n",
    "# Patching model to be able to compute gradients.\n",
    "# Note that you can also manually add \"force_backward: true\" line to \"deploy.prototxt\".\n",
    "model = caffe.io.caffe_pb2.NetParameter()\n",
    "text_format.Merge(open(net_fn).read(), model)\n",
    "model.force_backward = True\n",
    "open('tmp.prototxt', 'w').write(str(model))\n",
    "\n",
    "net = caffe.Classifier('tmp.prototxt', param_fn,\n",
    "                       mean = np.float32([104.0, 116.0, 122.0]), # ImageNet mean, training set dependent\n",
    "                       channel_swap = (2,1,0)) # the reference model has channels in BGR order instead of RGB\n",
    "\n",
    "# a couple of utility functions for converting to and from Caffe's input image layout\n",
    "def preprocess(net, img):\n",
    "    return np.float32(np.rollaxis(img, 2)[::-1]) - net.transformer.mean['data']\n",
    "def deprocess(net, img):\n",
    "    return np.dstack((img + net.transformer.mean['data'])[::-1])"
   ]
  },
  {
   "cell_type": "markdown",
   "metadata": {
    "colab_type": "text",
    "id": "UeV_fJ4QOZNb"
   },
   "source": [
    "##  Producing dreams"
   ]
  },
  {
   "cell_type": "markdown",
   "metadata": {
    "colab_type": "text",
    "id": "9udrp3efOZNd"
   },
   "source": [
    "Making the \"dream\" images is very simple. Essentially it is just a gradient ascent process that tries to maximize the L2 norm of activations of a particular DNN layer. Here are a few simple tricks that we found useful for getting good images:\n",
    "* offset image by a random jitter\n",
    "* normalize the magnitude of gradient ascent steps\n",
    "* apply ascent across multiple scales (octaves)\n",
    "\n",
    "First we implement a basic gradient ascent step function, applying the first two tricks:"
   ]
  },
  {
   "cell_type": "code",
   "execution_count": 3,
   "metadata": {
    "cellView": "both",
    "colab_type": "code",
    "collapsed": false,
    "id": "pN43nMsHOZNg"
   },
   "outputs": [],
   "source": [
    "def make_step(net, step_size=1.5, end='inception_4c/output', jitter=32, clip=True):\n",
    "    '''Basic gradient ascent step.'''\n",
    "\n",
    "    src = net.blobs['data'] # input image is stored in Net's 'data' blob\n",
    "    dst = net.blobs[end]\n",
    "\n",
    "    ox, oy = np.random.randint(-jitter, jitter+1, 2)\n",
    "    src.data[0] = np.roll(np.roll(src.data[0], ox, -1), oy, -2) # apply jitter shift\n",
    "            \n",
    "    net.forward(end=end)\n",
    "    dst.diff[:] = dst.data  # specify the optimization objective\n",
    "    net.backward(start=end)\n",
    "    g = src.diff[0]\n",
    "    # apply normalized ascent step to the input image\n",
    "    src.data[:] += step_size/np.abs(g).mean() * g\n",
    "\n",
    "    src.data[0] = np.roll(np.roll(src.data[0], -ox, -1), -oy, -2) # unshift image\n",
    "            \n",
    "    if clip:\n",
    "        bias = net.transformer.mean['data']\n",
    "        src.data[:] = np.clip(src.data, -bias, 255-bias)    "
   ]
  },
  {
   "cell_type": "markdown",
   "metadata": {
    "colab_type": "text",
    "id": "nphEdlBgOZNk"
   },
   "source": [
    "Next we implement an ascent through different scales. We call these scales \"octaves\"."
   ]
  },
  {
   "cell_type": "code",
   "execution_count": 4,
   "metadata": {
    "cellView": "both",
    "colab_type": "code",
    "collapsed": false,
    "id": "ZpFIn8l0OZNq"
   },
   "outputs": [],
   "source": [
    "def deepdream(net, base_img, iter_n=10, octave_n=4, octave_scale=1.4, end='inception_4c/output', clip=True, **step_params):\n",
    "    # prepare base images for all octaves\n",
    "    octaves = [preprocess(net, base_img)]\n",
    "    for i in xrange(octave_n-1):\n",
    "        octaves.append(nd.zoom(octaves[-1], (1, 1.0/octave_scale,1.0/octave_scale), order=1))\n",
    "    \n",
    "    src = net.blobs['data']\n",
    "    detail = np.zeros_like(octaves[-1]) # allocate image for network-produced details\n",
    "    for octave, octave_base in enumerate(octaves[::-1]):\n",
    "        h, w = octave_base.shape[-2:]\n",
    "        if octave > 0:\n",
    "            # upscale details from the previous octave\n",
    "            h1, w1 = detail.shape[-2:]\n",
    "            detail = nd.zoom(detail, (1, 1.0*h/h1,1.0*w/w1), order=1)\n",
    "\n",
    "        src.reshape(1,3,h,w) # resize the network's input image size\n",
    "        src.data[0] = octave_base+detail\n",
    "        for i in xrange(iter_n):\n",
    "            make_step(net, end=end, clip=clip, **step_params)\n",
    "            \n",
    "            # visualization\n",
    "            vis = deprocess(net, src.data[0])\n",
    "            if not clip: # adjust image contrast if clipping is disabled\n",
    "                vis = vis*(255.0/np.percentile(vis, 99.98))\n",
    "            showarray(vis)\n",
    "            print octave, i, end, vis.shape\n",
    "            clear_output(wait=True)\n",
    "            \n",
    "        # extract details produced on the current octave\n",
    "        detail = src.data[0]-octave_base\n",
    "    # returning the resulting image\n",
    "    return deprocess(net, src.data[0])"
   ]
  },
  {
   "cell_type": "markdown",
   "metadata": {
    "colab_type": "text",
    "id": "QrcdU-lmOZNx"
   },
   "source": [
    "Now we are ready to let the neural network to reveal its dreams! Let's take a [cloud image](https://commons.wikimedia.org/wiki/File:Appearance_of_sky_for_weather_forecast,_Dhaka,_Bangladesh.JPG) as a starting point:"
   ]
  },
  {
   "cell_type": "code",
   "execution_count": 5,
   "metadata": {
    "cellView": "both",
    "colab_type": "code",
    "collapsed": false,
    "executionInfo": null,
    "id": "40p5AqqwOZN5",
    "outputId": "f62cde37-79e8-420a-e448-3b9b48ee1730",
    "pinned": false
   },
   "outputs": [],
   "source": [
    "img = np.float32(PIL.Image.open('plasma.jpg'))\n",
    "showarray(img)"
   ]
  },
  {
   "cell_type": "markdown",
   "metadata": {
    "colab_type": "text",
    "id": "Z9_215_GOZOL"
   },
   "source": [
    "Running the next code cell starts the detail generation process. You may see how new patterns start to form, iteration by iteration, octave by octave."
   ]
  },
  {
   "cell_type": "code",
   "execution_count": 6,
   "metadata": {
    "cellView": "both",
    "colab_type": "code",
    "collapsed": false,
    "executionInfo": null,
    "id": "HlnVnDTlOZOL",
    "outputId": "425dfc83-b474-4a69-8386-30d86361bbf6",
    "pinned": false
   },
   "outputs": [
    {
     "name": "stdout",
     "output_type": "stream",
     "text": [
      "3 9 inception_4c/output (480, 640, 3)\n"
     ]
    }
   ],
   "source": [
    "_=deepdream(net, img)"
   ]
  },
  {
   "cell_type": "markdown",
   "metadata": {
    "colab_type": "text",
    "id": "Rp9kOCQTOZOQ"
   },
   "source": [
    "The complexity of the details generated depends on which layer's activations we try to maximize. Higher layers produce complex features, while lower ones enhance edges and textures, giving the image an impressionist feeling:"
   ]
  },
  {
   "cell_type": "code",
   "execution_count": 7,
   "metadata": {
    "cellView": "both",
    "colab_type": "code",
    "collapsed": false,
    "executionInfo": null,
    "id": "eHOX0t93OZOR",
    "outputId": "0de0381c-4681-4619-912f-9b6a2cdec0c6",
    "pinned": false
   },
   "outputs": [
    {
     "name": "stdout",
     "output_type": "stream",
     "text": [
      "3 9 inception_3b/5x5_reduce (480, 640, 3)\n"
     ]
    }
   ],
   "source": [
    "_=deepdream(net, img, end='inception_3b/5x5_reduce')"
   ]
  },
  {
   "cell_type": "markdown",
   "metadata": {
    "colab_type": "text",
    "id": "rkzHz9E8OZOb"
   },
   "source": [
    "We encourage readers to experiment with layer selection to see how it affects the results. Execute the next code cell to see the list of different layers. You can modify the `make_step` function to make it follow some different objective, say to select a subset of activations to maximize, or to maximize multiple layers at once. There is a huge design space to explore!"
   ]
  },
  {
   "cell_type": "code",
   "execution_count": 8,
   "metadata": {
    "cellView": "both",
    "colab_type": "code",
    "collapsed": false,
    "id": "OIepVN6POZOc"
   },
   "outputs": [
    {
     "data": {
      "text/plain": [
       "['data',\n",
       " 'conv1/7x7_s2',\n",
       " 'pool1/3x3_s2',\n",
       " 'pool1/norm1',\n",
       " 'conv2/3x3_reduce',\n",
       " 'conv2/3x3',\n",
       " 'conv2/norm2',\n",
       " 'pool2/3x3_s2',\n",
       " 'pool2/3x3_s2_pool2/3x3_s2_0_split_0',\n",
       " 'pool2/3x3_s2_pool2/3x3_s2_0_split_1',\n",
       " 'pool2/3x3_s2_pool2/3x3_s2_0_split_2',\n",
       " 'pool2/3x3_s2_pool2/3x3_s2_0_split_3',\n",
       " 'inception_3a/1x1',\n",
       " 'inception_3a/3x3_reduce',\n",
       " 'inception_3a/3x3',\n",
       " 'inception_3a/5x5_reduce',\n",
       " 'inception_3a/5x5',\n",
       " 'inception_3a/pool',\n",
       " 'inception_3a/pool_proj',\n",
       " 'inception_3a/output',\n",
       " 'inception_3a/output_inception_3a/output_0_split_0',\n",
       " 'inception_3a/output_inception_3a/output_0_split_1',\n",
       " 'inception_3a/output_inception_3a/output_0_split_2',\n",
       " 'inception_3a/output_inception_3a/output_0_split_3',\n",
       " 'inception_3b/1x1',\n",
       " 'inception_3b/3x3_reduce',\n",
       " 'inception_3b/3x3',\n",
       " 'inception_3b/5x5_reduce',\n",
       " 'inception_3b/5x5',\n",
       " 'inception_3b/pool',\n",
       " 'inception_3b/pool_proj',\n",
       " 'inception_3b/output',\n",
       " 'pool3/3x3_s2',\n",
       " 'pool3/3x3_s2_pool3/3x3_s2_0_split_0',\n",
       " 'pool3/3x3_s2_pool3/3x3_s2_0_split_1',\n",
       " 'pool3/3x3_s2_pool3/3x3_s2_0_split_2',\n",
       " 'pool3/3x3_s2_pool3/3x3_s2_0_split_3',\n",
       " 'inception_4a/1x1',\n",
       " 'inception_4a/3x3_reduce',\n",
       " 'inception_4a/3x3',\n",
       " 'inception_4a/5x5_reduce',\n",
       " 'inception_4a/5x5',\n",
       " 'inception_4a/pool',\n",
       " 'inception_4a/pool_proj',\n",
       " 'inception_4a/output',\n",
       " 'inception_4a/output_inception_4a/output_0_split_0',\n",
       " 'inception_4a/output_inception_4a/output_0_split_1',\n",
       " 'inception_4a/output_inception_4a/output_0_split_2',\n",
       " 'inception_4a/output_inception_4a/output_0_split_3',\n",
       " 'inception_4b/1x1',\n",
       " 'inception_4b/3x3_reduce',\n",
       " 'inception_4b/3x3',\n",
       " 'inception_4b/5x5_reduce',\n",
       " 'inception_4b/5x5',\n",
       " 'inception_4b/pool',\n",
       " 'inception_4b/pool_proj',\n",
       " 'inception_4b/output',\n",
       " 'inception_4b/output_inception_4b/output_0_split_0',\n",
       " 'inception_4b/output_inception_4b/output_0_split_1',\n",
       " 'inception_4b/output_inception_4b/output_0_split_2',\n",
       " 'inception_4b/output_inception_4b/output_0_split_3',\n",
       " 'inception_4c/1x1',\n",
       " 'inception_4c/3x3_reduce',\n",
       " 'inception_4c/3x3',\n",
       " 'inception_4c/5x5_reduce',\n",
       " 'inception_4c/5x5',\n",
       " 'inception_4c/pool',\n",
       " 'inception_4c/pool_proj',\n",
       " 'inception_4c/output',\n",
       " 'inception_4c/output_inception_4c/output_0_split_0',\n",
       " 'inception_4c/output_inception_4c/output_0_split_1',\n",
       " 'inception_4c/output_inception_4c/output_0_split_2',\n",
       " 'inception_4c/output_inception_4c/output_0_split_3',\n",
       " 'inception_4d/1x1',\n",
       " 'inception_4d/3x3_reduce',\n",
       " 'inception_4d/3x3',\n",
       " 'inception_4d/5x5_reduce',\n",
       " 'inception_4d/5x5',\n",
       " 'inception_4d/pool',\n",
       " 'inception_4d/pool_proj',\n",
       " 'inception_4d/output',\n",
       " 'inception_4d/output_inception_4d/output_0_split_0',\n",
       " 'inception_4d/output_inception_4d/output_0_split_1',\n",
       " 'inception_4d/output_inception_4d/output_0_split_2',\n",
       " 'inception_4d/output_inception_4d/output_0_split_3',\n",
       " 'inception_4e/1x1',\n",
       " 'inception_4e/3x3_reduce',\n",
       " 'inception_4e/3x3',\n",
       " 'inception_4e/5x5_reduce',\n",
       " 'inception_4e/5x5',\n",
       " 'inception_4e/pool',\n",
       " 'inception_4e/pool_proj',\n",
       " 'inception_4e/output',\n",
       " 'pool4/3x3_s2',\n",
       " 'pool4/3x3_s2_pool4/3x3_s2_0_split_0',\n",
       " 'pool4/3x3_s2_pool4/3x3_s2_0_split_1',\n",
       " 'pool4/3x3_s2_pool4/3x3_s2_0_split_2',\n",
       " 'pool4/3x3_s2_pool4/3x3_s2_0_split_3',\n",
       " 'inception_5a/1x1',\n",
       " 'inception_5a/3x3_reduce',\n",
       " 'inception_5a/3x3',\n",
       " 'inception_5a/5x5_reduce',\n",
       " 'inception_5a/5x5',\n",
       " 'inception_5a/pool',\n",
       " 'inception_5a/pool_proj',\n",
       " 'inception_5a/output',\n",
       " 'inception_5a/output_inception_5a/output_0_split_0',\n",
       " 'inception_5a/output_inception_5a/output_0_split_1',\n",
       " 'inception_5a/output_inception_5a/output_0_split_2',\n",
       " 'inception_5a/output_inception_5a/output_0_split_3',\n",
       " 'inception_5b/1x1',\n",
       " 'inception_5b/3x3_reduce',\n",
       " 'inception_5b/3x3',\n",
       " 'inception_5b/5x5_reduce',\n",
       " 'inception_5b/5x5',\n",
       " 'inception_5b/pool',\n",
       " 'inception_5b/pool_proj',\n",
       " 'inception_5b/output',\n",
       " 'pool5/7x7_s1',\n",
       " 'loss3/classifier',\n",
       " 'prob']"
      ]
     },
     "execution_count": 8,
     "metadata": {},
     "output_type": "execute_result"
    }
   ],
   "source": [
    "net.blobs.keys()"
   ]
  },
  {
   "cell_type": "markdown",
   "metadata": {
    "colab_type": "text",
    "id": "vs2uUpMCOZOe"
   },
   "source": [
    "What if we feed the `deepdream` function its own output, after applying a little zoom to it? It turns out that this leads to an endless stream of impressions of the things that the network saw during training. Some patterns fire more often than others, suggestive of basins of attraction.\n",
    "\n",
    "We will start the process from the same sky image as above, but after some iteration the original image becomes irrelevant; even random noise can be used as the starting point."
   ]
  },
  {
   "cell_type": "code",
   "execution_count": 9,
   "metadata": {
    "cellView": "both",
    "colab_type": "code",
    "collapsed": false,
    "id": "IB48CnUfOZOe"
   },
   "outputs": [
    {
     "name": "stdout",
     "output_type": "stream",
     "text": [
      "mkdir: cannot create directory 'frames': File exists\r\n"
     ]
    }
   ],
   "source": [
    "!mkdir frames\n",
    "frame = img\n",
    "frame_i = 0"
   ]
  },
  {
   "cell_type": "code",
   "execution_count": 10,
   "metadata": {
    "cellView": "both",
    "colab_type": "code",
    "collapsed": false,
    "id": "fj0E-fKDOZOi"
   },
   "outputs": [
    {
     "name": "stdout",
     "output_type": "stream",
     "text": [
      "3 9 inception_4c/output (480, 640, 3)\n"
     ]
    }
   ],
   "source": [
    "h, w = frame.shape[:2]\n",
    "s = 0.05 # scale coefficient\n",
    "for i in xrange(100):\n",
    "    frame = deepdream(net, frame)\n",
    "    PIL.Image.fromarray(np.uint8(frame)).save(\"frames/%04d.jpg\"%frame_i)\n",
    "    frame = nd.affine_transform(frame, [1-s,1-s,1], [h*s/2,w*s/2,0], order=1)\n",
    "    frame_i += 1"
   ]
  },
  {
   "cell_type": "markdown",
   "metadata": {
    "colab_type": "text",
    "id": "XzZGGME_OZOk"
   },
   "source": [
    "Be careful running the code above, it can bring you into very strange realms!"
   ]
  },
  {
   "cell_type": "code",
   "execution_count": 11,
   "metadata": {
    "cellView": "both",
    "colab_type": "code",
    "collapsed": false,
    "executionInfo": null,
    "id": "ZCZcz2p1OZOt",
    "outputId": "d3773436-2b5d-4e79-be9d-0f12ab839fff",
    "pinned": false
   },
   "outputs": [
    {
     "ename": "IOError",
     "evalue": "[Errno 2] No such file or directory: u'frames/.jpg'",
     "output_type": "error",
     "traceback": [
      "\u001b[1;31m---------------------------------------------------------------------------\u001b[0m",
      "\u001b[1;31mIOError\u001b[0m                                   Traceback (most recent call last)",
      "\u001b[1;32m<ipython-input-11-465bfe5406ae>\u001b[0m in \u001b[0;36m<module>\u001b[1;34m()\u001b[0m\n\u001b[1;32m----> 1\u001b[1;33m \u001b[0mImage\u001b[0m\u001b[1;33m(\u001b[0m\u001b[0mfilename\u001b[0m\u001b[1;33m=\u001b[0m\u001b[1;34m'frames/.jpg'\u001b[0m\u001b[1;33m)\u001b[0m\u001b[1;33m\u001b[0m\u001b[0m\n\u001b[0m",
      "\u001b[1;32m/usr/local/lib/python2.7/dist-packages/IPython/core/display.pyc\u001b[0m in \u001b[0;36m__init__\u001b[1;34m(self, data, url, filename, format, embed, width, height, retina, unconfined, metadata)\u001b[0m\n\u001b[0;32m    737\u001b[0m         \u001b[0mself\u001b[0m\u001b[1;33m.\u001b[0m\u001b[0munconfined\u001b[0m \u001b[1;33m=\u001b[0m \u001b[0munconfined\u001b[0m\u001b[1;33m\u001b[0m\u001b[0m\n\u001b[0;32m    738\u001b[0m         \u001b[0mself\u001b[0m\u001b[1;33m.\u001b[0m\u001b[0mmetadata\u001b[0m \u001b[1;33m=\u001b[0m \u001b[0mmetadata\u001b[0m\u001b[1;33m\u001b[0m\u001b[0m\n\u001b[1;32m--> 739\u001b[1;33m         \u001b[0msuper\u001b[0m\u001b[1;33m(\u001b[0m\u001b[0mImage\u001b[0m\u001b[1;33m,\u001b[0m \u001b[0mself\u001b[0m\u001b[1;33m)\u001b[0m\u001b[1;33m.\u001b[0m\u001b[0m__init__\u001b[0m\u001b[1;33m(\u001b[0m\u001b[0mdata\u001b[0m\u001b[1;33m=\u001b[0m\u001b[0mdata\u001b[0m\u001b[1;33m,\u001b[0m \u001b[0murl\u001b[0m\u001b[1;33m=\u001b[0m\u001b[0murl\u001b[0m\u001b[1;33m,\u001b[0m \u001b[0mfilename\u001b[0m\u001b[1;33m=\u001b[0m\u001b[0mfilename\u001b[0m\u001b[1;33m)\u001b[0m\u001b[1;33m\u001b[0m\u001b[0m\n\u001b[0m\u001b[0;32m    740\u001b[0m \u001b[1;33m\u001b[0m\u001b[0m\n\u001b[0;32m    741\u001b[0m         \u001b[1;32mif\u001b[0m \u001b[0mretina\u001b[0m\u001b[1;33m:\u001b[0m\u001b[1;33m\u001b[0m\u001b[0m\n",
      "\u001b[1;32m/usr/local/lib/python2.7/dist-packages/IPython/core/display.pyc\u001b[0m in \u001b[0;36m__init__\u001b[1;34m(self, data, url, filename)\u001b[0m\n\u001b[0;32m    384\u001b[0m         \u001b[0mself\u001b[0m\u001b[1;33m.\u001b[0m\u001b[0mfilename\u001b[0m \u001b[1;33m=\u001b[0m \u001b[0mNone\u001b[0m \u001b[1;32mif\u001b[0m \u001b[0mfilename\u001b[0m \u001b[1;32mis\u001b[0m \u001b[0mNone\u001b[0m \u001b[1;32melse\u001b[0m \u001b[0municode_type\u001b[0m\u001b[1;33m(\u001b[0m\u001b[0mfilename\u001b[0m\u001b[1;33m)\u001b[0m\u001b[1;33m\u001b[0m\u001b[0m\n\u001b[0;32m    385\u001b[0m \u001b[1;33m\u001b[0m\u001b[0m\n\u001b[1;32m--> 386\u001b[1;33m         \u001b[0mself\u001b[0m\u001b[1;33m.\u001b[0m\u001b[0mreload\u001b[0m\u001b[1;33m(\u001b[0m\u001b[1;33m)\u001b[0m\u001b[1;33m\u001b[0m\u001b[0m\n\u001b[0m\u001b[0;32m    387\u001b[0m         \u001b[0mself\u001b[0m\u001b[1;33m.\u001b[0m\u001b[0m_check_data\u001b[0m\u001b[1;33m(\u001b[0m\u001b[1;33m)\u001b[0m\u001b[1;33m\u001b[0m\u001b[0m\n\u001b[0;32m    388\u001b[0m \u001b[1;33m\u001b[0m\u001b[0m\n",
      "\u001b[1;32m/usr/local/lib/python2.7/dist-packages/IPython/core/display.pyc\u001b[0m in \u001b[0;36mreload\u001b[1;34m(self)\u001b[0m\n\u001b[0;32m    759\u001b[0m         \u001b[1;34m\"\"\"Reload the raw data from file or URL.\"\"\"\u001b[0m\u001b[1;33m\u001b[0m\u001b[0m\n\u001b[0;32m    760\u001b[0m         \u001b[1;32mif\u001b[0m \u001b[0mself\u001b[0m\u001b[1;33m.\u001b[0m\u001b[0membed\u001b[0m\u001b[1;33m:\u001b[0m\u001b[1;33m\u001b[0m\u001b[0m\n\u001b[1;32m--> 761\u001b[1;33m             \u001b[0msuper\u001b[0m\u001b[1;33m(\u001b[0m\u001b[0mImage\u001b[0m\u001b[1;33m,\u001b[0m\u001b[0mself\u001b[0m\u001b[1;33m)\u001b[0m\u001b[1;33m.\u001b[0m\u001b[0mreload\u001b[0m\u001b[1;33m(\u001b[0m\u001b[1;33m)\u001b[0m\u001b[1;33m\u001b[0m\u001b[0m\n\u001b[0m\u001b[0;32m    762\u001b[0m             \u001b[1;32mif\u001b[0m \u001b[0mself\u001b[0m\u001b[1;33m.\u001b[0m\u001b[0mretina\u001b[0m\u001b[1;33m:\u001b[0m\u001b[1;33m\u001b[0m\u001b[0m\n\u001b[0;32m    763\u001b[0m                 \u001b[0mself\u001b[0m\u001b[1;33m.\u001b[0m\u001b[0m_retina_shape\u001b[0m\u001b[1;33m(\u001b[0m\u001b[1;33m)\u001b[0m\u001b[1;33m\u001b[0m\u001b[0m\n",
      "\u001b[1;32m/usr/local/lib/python2.7/dist-packages/IPython/core/display.pyc\u001b[0m in \u001b[0;36mreload\u001b[1;34m(self)\u001b[0m\n\u001b[0;32m    402\u001b[0m         \u001b[1;34m\"\"\"Reload the raw data from file or URL.\"\"\"\u001b[0m\u001b[1;33m\u001b[0m\u001b[0m\n\u001b[0;32m    403\u001b[0m         \u001b[1;32mif\u001b[0m \u001b[0mself\u001b[0m\u001b[1;33m.\u001b[0m\u001b[0mfilename\u001b[0m \u001b[1;32mis\u001b[0m \u001b[1;32mnot\u001b[0m \u001b[0mNone\u001b[0m\u001b[1;33m:\u001b[0m\u001b[1;33m\u001b[0m\u001b[0m\n\u001b[1;32m--> 404\u001b[1;33m             \u001b[1;32mwith\u001b[0m \u001b[0mopen\u001b[0m\u001b[1;33m(\u001b[0m\u001b[0mself\u001b[0m\u001b[1;33m.\u001b[0m\u001b[0mfilename\u001b[0m\u001b[1;33m,\u001b[0m \u001b[0mself\u001b[0m\u001b[1;33m.\u001b[0m\u001b[0m_read_flags\u001b[0m\u001b[1;33m)\u001b[0m \u001b[1;32mas\u001b[0m \u001b[0mf\u001b[0m\u001b[1;33m:\u001b[0m\u001b[1;33m\u001b[0m\u001b[0m\n\u001b[0m\u001b[0;32m    405\u001b[0m                 \u001b[0mself\u001b[0m\u001b[1;33m.\u001b[0m\u001b[0mdata\u001b[0m \u001b[1;33m=\u001b[0m \u001b[0mf\u001b[0m\u001b[1;33m.\u001b[0m\u001b[0mread\u001b[0m\u001b[1;33m(\u001b[0m\u001b[1;33m)\u001b[0m\u001b[1;33m\u001b[0m\u001b[0m\n\u001b[0;32m    406\u001b[0m         \u001b[1;32melif\u001b[0m \u001b[0mself\u001b[0m\u001b[1;33m.\u001b[0m\u001b[0murl\u001b[0m \u001b[1;32mis\u001b[0m \u001b[1;32mnot\u001b[0m \u001b[0mNone\u001b[0m\u001b[1;33m:\u001b[0m\u001b[1;33m\u001b[0m\u001b[0m\n",
      "\u001b[1;31mIOError\u001b[0m: [Errno 2] No such file or directory: u'frames/.jpg'"
     ]
    }
   ],
   "source": [
    "Image(filename='frames/.jpg')"
   ]
  }
 ],
 "metadata": {
  "colabVersion": "0.3.1",
  "default_view": {},
  "kernelspec": {
   "display_name": "Python 2",
   "language": "python",
   "name": "python2"
  },
  "language_info": {
   "codemirror_mode": {
    "name": "ipython",
    "version": 2
   },
   "file_extension": ".py",
   "mimetype": "text/x-python",
   "name": "python",
   "nbconvert_exporter": "python",
   "pygments_lexer": "ipython2",
   "version": "2.7.6"
  },
  "views": {}
 },
 "nbformat": 4,
 "nbformat_minor": 0
}
